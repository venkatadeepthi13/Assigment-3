{
 "cells": [
  {
   "cell_type": "code",
   "execution_count": null,
   "id": "b91f4db1",
   "metadata": {},
   "outputs": [],
   "source": [
    "#Create a python program to print the below pattern using for loop as or while loop"
   ]
  },
  {
   "cell_type": "code",
   "execution_count": null,
   "id": "50d7a246",
   "metadata": {},
   "outputs": [],
   "source": [
    "#a\n",
    "1  \n",
    "2 2  \n",
    "3 3 3  \n",
    "4 4 4 4  \n",
    "5 5 5 5 5"
   ]
  },
  {
   "cell_type": "code",
   "execution_count": 8,
   "id": "02c1205a",
   "metadata": {},
   "outputs": [
    {
     "name": "stdout",
     "output_type": "stream",
     "text": [
      "1\n",
      "\n",
      "22\n",
      "\n",
      "333\n",
      "\n",
      "4444\n",
      "\n",
      "55555\n",
      "\n"
     ]
    }
   ],
   "source": [
    "x=1\n",
    "while x<=5:\n",
    "    y=1\n",
    "    while y<=x:\n",
    "        print(x,end='')\n",
    "        y=y+1\n",
    "    print('\\n')\n",
    "    x=x+1"
   ]
  },
  {
   "cell_type": "code",
   "execution_count": 7,
   "id": "959e69e2",
   "metadata": {},
   "outputs": [
    {
     "name": "stdout",
     "output_type": "stream",
     "text": [
      "1\n",
      "\n",
      "12\n",
      "\n",
      "123\n",
      "\n",
      "1234\n",
      "\n",
      "12345\n",
      "\n"
     ]
    }
   ],
   "source": [
    "#b1 \n",
    "#1 2 \n",
    "#1 2 3 \n",
    "#1 2 3 4 \n",
    "#1 2 3 4 5\n",
    "\n",
    "\n",
    "x=1\n",
    "while x<=5:\n",
    "    y=1\n",
    "    while y<=x:\n",
    "        print(y,end='')\n",
    "        y=y+1\n",
    "    print('\\n')\n",
    "    x=x+1"
   ]
  },
  {
   "cell_type": "code",
   "execution_count": null,
   "id": "220682ae",
   "metadata": {},
   "outputs": [],
   "source": []
  },
  {
   "cell_type": "code",
   "execution_count": null,
   "id": "04d9ac0a",
   "metadata": {},
   "outputs": [],
   "source": [
    "#c\n",
    "1 1 1 1 1 \n",
    "2 2 2 2 \n",
    "3 3 3 \n",
    "4 4 \n",
    "5\n"
   ]
  },
  {
   "cell_type": "code",
   "execution_count": 1,
   "id": "7650b797",
   "metadata": {},
   "outputs": [
    {
     "name": "stdout",
     "output_type": "stream",
     "text": [
      "11111\n",
      "\n",
      "2222\n",
      "\n",
      "333\n",
      "\n",
      "44\n",
      "\n",
      "5\n",
      "\n"
     ]
    }
   ],
   "source": [
    "x=1\n",
    "while x<=5:\n",
    "    y=5\n",
    "    while y>=x:\n",
    "        print(x,end='')\n",
    "        y=y-1\n",
    "    print('\\n')\n",
    "    x=x+1"
   ]
  },
  {
   "cell_type": "code",
   "execution_count": 2,
   "id": "8c71fe54",
   "metadata": {},
   "outputs": [
    {
     "name": "stdout",
     "output_type": "stream",
     "text": [
      "55555\n",
      "\n",
      "5555\n",
      "\n",
      "555\n",
      "\n",
      "55\n",
      "\n",
      "5\n",
      "\n"
     ]
    }
   ],
   "source": [
    "#d\n",
    "#5 5 5 5 5 \n",
    "#5 5 5 5 \n",
    "#5 5 5 \n",
    "#5 5 \n",
    "#5\n",
    "\n",
    "\n",
    "\n",
    "x=1\n",
    "while x<=5:\n",
    "    y=5\n",
    "    while y>=x:\n",
    "        print('5',end='')\n",
    "        y=y-1\n",
    "    print('\\n')\n",
    "    x=x+1"
   ]
  },
  {
   "cell_type": "code",
   "execution_count": null,
   "id": "e21ebd0e",
   "metadata": {},
   "outputs": [],
   "source": [
    "#e\n",
    "#0 1 2 3 4 5 \n",
    "#0 1 2 3 4 \n",
    "#0 1 2 3 \n",
    "#0 1 2 \n",
    "#0 1\n"
   ]
  },
  {
   "cell_type": "code",
   "execution_count": 19,
   "id": "eb13f50c",
   "metadata": {},
   "outputs": [
    {
     "name": "stdout",
     "output_type": "stream",
     "text": [
      "012345\n",
      "\n",
      "01234\n",
      "\n",
      "0123\n",
      "\n",
      "012\n",
      "\n",
      "01\n",
      "\n",
      "0\n",
      "\n"
     ]
    }
   ],
   "source": [
    "x=5\n",
    "while x>=0:\n",
    "    y=0\n",
    "    while y<=x:\n",
    "        print(y,end='')\n",
    "        y=y+1\n",
    "    print('\\n')\n",
    "    x=x-1"
   ]
  },
  {
   "cell_type": "markdown",
   "id": "b502759d",
   "metadata": {},
   "source": []
  },
  {
   "cell_type": "code",
   "execution_count": null,
   "id": "93b429ad",
   "metadata": {},
   "outputs": [],
   "source": []
  },
  {
   "cell_type": "code",
   "execution_count": null,
   "id": "e51350d2",
   "metadata": {},
   "outputs": [],
   "source": [
    "#f\n",
    "1 \n",
    "3 3 \n",
    "5 5 5 \n",
    "7 7 7 7 \n",
    "9 9 9 9 9"
   ]
  },
  {
   "cell_type": "code",
   "execution_count": 1,
   "id": "969619aa",
   "metadata": {},
   "outputs": [
    {
     "name": "stdout",
     "output_type": "stream",
     "text": [
      "1\n",
      "\n",
      "33\n",
      "\n",
      "555\n",
      "\n",
      "7777\n",
      "\n",
      "99999\n",
      "\n"
     ]
    }
   ],
   "source": [
    "x=1\n",
    "count=1\n",
    "while x<=5:\n",
    "    y=1\n",
    "    while y<=x:\n",
    "        print(count,end='')\n",
    "        y=y+1\n",
    "    count=count+2\n",
    "    print('\\n')\n",
    "    x=x+1        "
   ]
  },
  {
   "cell_type": "code",
   "execution_count": null,
   "id": "7645b052",
   "metadata": {},
   "outputs": [],
   "source": [
    "#g\n",
    "#5 5 5 5 5 \n",
    "#4 4 4 4 \n",
    "33 3 3 \n",
    " 2 \n",
    "1\n"
   ]
  },
  {
   "cell_type": "code",
   "execution_count": 6,
   "id": "7a6c2431",
   "metadata": {},
   "outputs": [
    {
     "name": "stdout",
     "output_type": "stream",
     "text": [
      "55555\n",
      "\n",
      "4444\n",
      "\n",
      "333\n",
      "\n",
      "22\n",
      "\n",
      "1\n",
      "\n"
     ]
    }
   ],
   "source": [
    "x=5\n",
    "while x>=1:\n",
    "    y=1\n",
    "    while y<=x:\n",
    "        print(x,end='')\n",
    "        y=y+1\n",
    "    print('\\n')\n",
    "    x=x-1"
   ]
  },
  {
   "cell_type": "code",
   "execution_count": null,
   "id": "9f0864aa",
   "metadata": {},
   "outputs": [],
   "source": [
    "#h\n",
    "#1 \n",
    "#2 1 \n",
    "#3 2 1 \n",
    "#4 3 2 1 \n",
    "#5 4 3 2 1"
   ]
  },
  {
   "cell_type": "code",
   "execution_count": 15,
   "id": "eabea890",
   "metadata": {},
   "outputs": [
    {
     "name": "stdout",
     "output_type": "stream",
     "text": [
      "1\n",
      "\n",
      "21\n",
      "\n",
      "321\n",
      "\n",
      "4321\n",
      "\n",
      "54321\n",
      "\n"
     ]
    }
   ],
   "source": [
    "x=1\n",
    "while x<=5:\n",
    "    y=x\n",
    "    while y>=1:\n",
    "        print(y,end='')\n",
    "        y=y-1\n",
    "    print('\\n')\n",
    "    x=x+1  "
   ]
  },
  {
   "cell_type": "code",
   "execution_count": null,
   "id": "4887ba44",
   "metadata": {},
   "outputs": [],
   "source": [
    "#i\n",
    "#5 4 3 2 1 \n",
    "#4 3 2 1 \n",
    "#3 2 1 \n",
    "#2 1 \n",
    "#1\n"
   ]
  },
  {
   "cell_type": "code",
   "execution_count": 1,
   "id": "e3cca6bb",
   "metadata": {},
   "outputs": [
    {
     "name": "stdout",
     "output_type": "stream",
     "text": [
      "54321\n",
      "\n",
      "4321\n",
      "\n",
      "321\n",
      "\n",
      "21\n",
      "\n",
      "1\n",
      "\n"
     ]
    }
   ],
   "source": [
    "x=5\n",
    "while x>=1:\n",
    "    y=x\n",
    "    while y>=1:\n",
    "        print(y,end='')\n",
    "        y=y-1\n",
    "    print('\\n')\n",
    "    x=x-1  "
   ]
  },
  {
   "cell_type": "code",
   "execution_count": null,
   "id": "19a4c466",
   "metadata": {},
   "outputs": [],
   "source": [
    "#j\n",
    "#1\n",
    "#3 2\n",
    "#6 5 4\n",
    "#10 9 8 7"
   ]
  },
  {
   "cell_type": "code",
   "execution_count": 2,
   "id": "59fe51e4",
   "metadata": {},
   "outputs": [
    {
     "name": "stdout",
     "output_type": "stream",
     "text": [
      "1\n",
      "\n",
      "32\n",
      "\n",
      "654\n",
      "\n",
      "10987\n",
      "\n"
     ]
    }
   ],
   "source": [
    "x=1\n",
    "c=1\n",
    "while x<=4:\n",
    "    y=1\n",
    "    c=c+x\n",
    "    while y<=x:\n",
    "        print(c-y,end='')\n",
    "        y=y+1\n",
    "    print('\\n')\n",
    "    x=x+1\n",
    "    "
   ]
  },
  {
   "cell_type": "code",
   "execution_count": null,
   "id": "d6ceca0d",
   "metadata": {},
   "outputs": [],
   "source": [
    "#k\n",
    "\n",
    "#          1 \n",
    "#        1 2 \n",
    "#      1 2 3 \n",
    "#    1 2 3 4 \n",
    "#  1 2 3 4 5 \n",
    "\n"
   ]
  },
  {
   "cell_type": "code",
   "execution_count": 5,
   "id": "be2145b0",
   "metadata": {},
   "outputs": [
    {
     "name": "stdout",
     "output_type": "stream",
     "text": [
      "    1\n",
      "\n",
      "   12\n",
      "\n",
      "  123\n",
      "\n",
      " 1234\n",
      "\n",
      "12345\n",
      "\n"
     ]
    }
   ],
   "source": [
    "x=1\n",
    "while x<=5:\n",
    "    c=5-x\n",
    "    print(' '*c,end='')\n",
    "    y=1\n",
    "    while y<=x:\n",
    "        print(y,end='')\n",
    "        y=y+1\n",
    "    print('\\n')\n",
    "    x=x+1"
   ]
  },
  {
   "cell_type": "code",
   "execution_count": 10,
   "id": "e2950771",
   "metadata": {},
   "outputs": [
    {
     "name": "stdout",
     "output_type": "stream",
     "text": [
      "\n"
     ]
    }
   ],
   "source": []
  },
  {
   "cell_type": "code",
   "execution_count": null,
   "id": "e3ddf7fe",
   "metadata": {},
   "outputs": [],
   "source": []
  },
  {
   "cell_type": "code",
   "execution_count": null,
   "id": "6353d5e8",
   "metadata": {},
   "outputs": [],
   "source": [
    "#m\n",
    "\n",
    "#1 2 3 4 5 \n",
    "#2 2 3 4 5 \n",
    "#3 3 3 4 5 \n",
    "#4 4 4 4 5 \n",
    "#5 5 5 5 5\n"
   ]
  },
  {
   "cell_type": "code",
   "execution_count": 53,
   "id": "c3cbb966",
   "metadata": {},
   "outputs": [
    {
     "name": "stdout",
     "output_type": "stream",
     "text": [
      "12345\n",
      "\n",
      "22345\n",
      "\n",
      "33345\n",
      "\n",
      "44445\n",
      "\n",
      "55555\n",
      "\n"
     ]
    }
   ],
   "source": [
    "x=1\n",
    "while x<=5:\n",
    "    y=1\n",
    "    while y<=5:\n",
    "        if y<x:\n",
    "            print(x,end='')\n",
    "        else:\n",
    "            print(y,end='')\n",
    "        y=y+1\n",
    "    print('\\n')\n",
    "    x=x+1"
   ]
  },
  {
   "cell_type": "code",
   "execution_count": null,
   "id": "0c9c34d0",
   "metadata": {},
   "outputs": [],
   "source": [
    "#n\n",
    "#1  \n",
    "#2  4  \n",
    "#3  6  9  \n",
    "#4  8  12  16  \n",
    "#5  10  15  20  25  \n",
    "#6  12  18  24  30  36  \n",
    "#7  14  21  28  35  42  49  \n",
    "#8  16  24  32  40  48  56  64\n"
   ]
  },
  {
   "cell_type": "code",
   "execution_count": 7,
   "id": "04503a92",
   "metadata": {},
   "outputs": [
    {
     "name": "stdout",
     "output_type": "stream",
     "text": [
      "1 \n",
      "\n",
      "2 4 \n",
      "\n",
      "3 6 9 \n",
      "\n",
      "4 8 12 16 \n",
      "\n",
      "5 10 15 20 25 \n",
      "\n",
      "6 12 18 24 30 36 \n",
      "\n",
      "7 14 21 28 35 42 49 \n",
      "\n",
      "8 16 24 32 40 48 56 64 \n",
      "\n"
     ]
    }
   ],
   "source": [
    "x=1\n",
    "while x<=8:\n",
    "    y=1\n",
    "    while y<=x:\n",
    "        print(x*y,end=' ')\n",
    "        y=y+1\n",
    "    print('\\n')\n",
    "    x=x+1"
   ]
  },
  {
   "cell_type": "code",
   "execution_count": null,
   "id": "8f614e77",
   "metadata": {},
   "outputs": [],
   "source": [
    "#o\n",
    "#* \n",
    "#* * \n",
    "#* * * \n",
    "#* * * * \n",
    "#* * * * * "
   ]
  },
  {
   "cell_type": "code",
   "execution_count": 15,
   "id": "69ee3b97",
   "metadata": {},
   "outputs": [
    {
     "name": "stdout",
     "output_type": "stream",
     "text": [
      "* \n",
      "\n",
      "* * \n",
      "\n",
      "* * * \n",
      "\n",
      "* * * * \n",
      "\n",
      "* * * * * \n",
      "\n"
     ]
    }
   ],
   "source": [
    "x=1\n",
    "while x<=5:\n",
    "    y=1\n",
    "    while y<=x:\n",
    "        print('*',end=' ')\n",
    "        y=y+1\n",
    "    print('\\n')\n",
    "    x=x+1"
   ]
  },
  {
   "cell_type": "code",
   "execution_count": null,
   "id": "b5ef4df5",
   "metadata": {},
   "outputs": [],
   "source": [
    "#p\n",
    "#        * \n",
    "#      * * \n",
    "#    * * * \n",
    "#  * * * * \n",
    "#* * * * * \n"
   ]
  },
  {
   "cell_type": "code",
   "execution_count": 16,
   "id": "0c326ae0",
   "metadata": {},
   "outputs": [
    {
     "name": "stdout",
     "output_type": "stream",
     "text": [
      "    *\n",
      "\n",
      "   **\n",
      "\n",
      "  ***\n",
      "\n",
      " ****\n",
      "\n",
      "*****\n",
      "\n"
     ]
    }
   ],
   "source": [
    "x=1\n",
    "while x<=5:\n",
    "    c=5-x\n",
    "    print(' '*c,end='')\n",
    "    y=1\n",
    "    while y<=x:\n",
    "        print('*',end='')\n",
    "        y=y+1\n",
    "    print('\\n')\n",
    "    x=x+1"
   ]
  },
  {
   "cell_type": "code",
   "execution_count": null,
   "id": "09591f37",
   "metadata": {},
   "outputs": [],
   "source": [
    "#q\n",
    "#* * * * *  \n",
    "#* * * *  \n",
    "#* * *  \n",
    "#* *  \n",
    "#*"
   ]
  },
  {
   "cell_type": "code",
   "execution_count": 21,
   "id": "5c934346",
   "metadata": {},
   "outputs": [
    {
     "name": "stdout",
     "output_type": "stream",
     "text": [
      "*****\n",
      "\n",
      "****\n",
      "\n",
      "***\n",
      "\n",
      "**\n",
      "\n",
      "*\n",
      "\n"
     ]
    }
   ],
   "source": [
    "x=5\n",
    "while x>=1:\n",
    "    y=1\n",
    "    while y<=x:\n",
    "        print('*',end='')\n",
    "        y=y+1\n",
    "    print('\\n')\n",
    "    x=x-1"
   ]
  },
  {
   "cell_type": "code",
   "execution_count": null,
   "id": "c51215cb",
   "metadata": {},
   "outputs": [],
   "source": [
    "#r\n",
    "#* * * * * * \n",
    " #* * * * * \n",
    "  #* * * * \n",
    "   #* * * \n",
    "    #* * \n",
    "     #* \n"
   ]
  },
  {
   "cell_type": "code",
   "execution_count": 26,
   "id": "545fb2d0",
   "metadata": {},
   "outputs": [
    {
     "name": "stdout",
     "output_type": "stream",
     "text": [
      "* * * * * \n",
      "\n",
      " * * * * \n",
      "\n",
      "  * * * \n",
      "\n",
      "   * * \n",
      "\n",
      "    * \n",
      "\n"
     ]
    }
   ],
   "source": [
    "x=5\n",
    "while x>=1:\n",
    "    c=5-x\n",
    "    print(' '*c,end='')\n",
    "    y=1\n",
    "    while y<=x:\n",
    "        print('*',end=' ')\n",
    "        y=y+1\n",
    "    print('\\n')\n",
    "    x=x-1"
   ]
  },
  {
   "cell_type": "code",
   "execution_count": 27,
   "id": "782512f4",
   "metadata": {},
   "outputs": [],
   "source": [
    "#s\n",
    "#*****\n",
    " #****\n",
    "  #***\n",
    "  # **\n",
    "    #*\n"
   ]
  },
  {
   "cell_type": "code",
   "execution_count": 8,
   "id": "dc517121",
   "metadata": {},
   "outputs": [
    {
     "name": "stdout",
     "output_type": "stream",
     "text": [
      " *****\n",
      "\n",
      "  ****\n",
      "\n",
      "   ***\n",
      "\n",
      "    **\n",
      "\n",
      "     *\n",
      "\n"
     ]
    }
   ],
   "source": [
    "x=5\n",
    "while x>=1:\n",
    "    c=5-x\n",
    "    print(' '*c,end=' ')\n",
    "    y=1\n",
    "    while y<=x:\n",
    "        print('*',end='')\n",
    "        y=y+1\n",
    "    print('\\n')\n",
    "    x=x-1"
   ]
  },
  {
   "cell_type": "code",
   "execution_count": null,
   "id": "1ef05808",
   "metadata": {},
   "outputs": [],
   "source": [
    "#t\n",
    "#            *   \n",
    "#           *  *   \n",
    "#          *  *  *   \n",
    "#         *  *  *  *   \n",
    "#        *  *  *  *  *   \n",
    "#       *  *  *  *  *  *   \n",
    "#      *  *  *  *  *  *  *   "
   ]
  },
  {
   "cell_type": "code",
   "execution_count": 6,
   "id": "5b247e22",
   "metadata": {},
   "outputs": [
    {
     "name": "stdout",
     "output_type": "stream",
     "text": [
      "      * \n",
      "\n",
      "     * * \n",
      "\n",
      "    * * * \n",
      "\n",
      "   * * * * \n",
      "\n",
      "  * * * * * \n",
      "\n",
      " * * * * * * \n",
      "\n",
      "* * * * * * * \n",
      "\n"
     ]
    }
   ],
   "source": [
    "x=1\n",
    "while x<=7:\n",
    "    c=7-x\n",
    "    print(' '*c,end='')\n",
    "    y=1\n",
    "    while y<=x:\n",
    "        print('*',end=' ')\n",
    "        y=y+1\n",
    "    print('\\n')\n",
    "    x=x+1"
   ]
  },
  {
   "cell_type": "code",
   "execution_count": null,
   "id": "c0da0ac2",
   "metadata": {},
   "outputs": [],
   "source": [
    "#q\n",
    "#*  \n",
    "#* *  \n",
    "#* * *  \n",
    "#* * * *  \n",
    "#* * * * *  \n",
    "#* * * * * *  \n",
    " \n",
    "#* * * * * *  \n",
    "#* * * * *  \n",
    "#* * * *  \n",
    "#* * *  \n",
    "#* *  \n",
    "#*  \n"
   ]
  },
  {
   "cell_type": "code",
   "execution_count": 4,
   "id": "f79fa39c",
   "metadata": {},
   "outputs": [
    {
     "name": "stdout",
     "output_type": "stream",
     "text": [
      "* \n",
      "\n",
      "* * \n",
      "\n",
      "* * * \n",
      "\n",
      "* * * * \n",
      "\n",
      "* * * * * \n",
      "\n",
      "     \n",
      "* * * * * \n",
      "\n",
      "* * * * \n",
      "\n",
      "* * * \n",
      "\n",
      "* * \n",
      "\n",
      "* \n",
      "\n"
     ]
    }
   ],
   "source": [
    "x=1\n",
    "while x<=5:\n",
    "    y=1\n",
    "    while y<=x:\n",
    "        print('*',end=' ')\n",
    "        y=y+1\n",
    "    print('\\n')\n",
    "    x=x+1\n",
    "print('     ')\n",
    "x=5\n",
    "while x>=1:\n",
    "    y=1\n",
    "    while y<=x:\n",
    "        print('*',end=' ')\n",
    "        y=y+1\n",
    "    print('\\n')\n",
    "    x=x-1"
   ]
  },
  {
   "cell_type": "code",
   "execution_count": null,
   "id": "f597b428",
   "metadata": {},
   "outputs": [],
   "source": [
    "#r\n",
    "#* \n",
    "#* * \n",
    "#* * * \n",
    "#* * * * \n",
    "#* * * * * \n",
    "#* * * * \n",
    "#* * * \n",
    "#* * \n",
    "#* \n"
   ]
  },
  {
   "cell_type": "code",
   "execution_count": 15,
   "id": "ce8652b3",
   "metadata": {},
   "outputs": [
    {
     "name": "stdout",
     "output_type": "stream",
     "text": [
      "* \n",
      "\n",
      "* * \n",
      "\n",
      "* * * \n",
      "\n",
      "* * * * \n",
      "\n",
      "* * * * * \n",
      "\n",
      "* * * * \n",
      "\n",
      "* * * \n",
      "\n",
      "* * \n",
      "\n",
      "* \n",
      "\n"
     ]
    }
   ],
   "source": [
    "x=1\n",
    "while x<=5:\n",
    "    y=1\n",
    "    while y<=x:\n",
    "        print('*',end=' ')\n",
    "        y=y+1\n",
    "    print('\\n')\n",
    "    x=x+1\n",
    "x=4\n",
    "while x>=1:\n",
    "    y=1\n",
    "    while y<=x:\n",
    "        print('*',end=' ')\n",
    "        y=y+1\n",
    "    print('\\n')\n",
    "    x=x-1\n"
   ]
  },
  {
   "cell_type": "code",
   "execution_count": null,
   "id": "04db66c7",
   "metadata": {},
   "outputs": [],
   "source": [
    "#s\n",
    "#       * \n",
    "#      * * \n",
    "#    * * * \n",
    "#  * * * * \n",
    "#* * * * * \n",
    "#  * * * * \n",
    "#    * * * \n",
    "#      * * \n",
    "#        * \n"
   ]
  },
  {
   "cell_type": "code",
   "execution_count": 14,
   "id": "3d28b566",
   "metadata": {},
   "outputs": [
    {
     "name": "stdout",
     "output_type": "stream",
     "text": [
      "    *\n",
      "\n",
      "   **\n",
      "\n",
      "  ***\n",
      "\n",
      " ****\n",
      "\n",
      "*****\n",
      "\n",
      " ****\n",
      "\n",
      "  ***\n",
      "\n",
      "   **\n",
      "\n",
      "    *\n",
      "\n"
     ]
    }
   ],
   "source": [
    "x=1\n",
    "while x<=5:\n",
    "    c=5-x\n",
    "    print(' '*c,end='')\n",
    "    y=1\n",
    "    while y<=x:\n",
    "        print('*',end='')\n",
    "        y=y+1\n",
    "    print('\\n')\n",
    "    x=x+1\n",
    "x=4\n",
    "while x>=1:\n",
    "    c=5-x\n",
    "    print(' '*c,end='')\n",
    "    y=1\n",
    "    while y<=x:\n",
    "        print('*',end='')\n",
    "        y=y+1\n",
    "    print('\\n')\n",
    "    x=x-1\n"
   ]
  },
  {
   "cell_type": "code",
   "execution_count": null,
   "id": "9a30eb48",
   "metadata": {},
   "outputs": [],
   "source": [
    "#t\n",
    "#* * * * * \n",
    "#* * * * \n",
    "# * * * \n",
    "#  * * \n",
    "#   * \n",
    "#   * \n",
    "#  * * \n",
    "# * * * \n",
    "#* * * * \n",
    "#* * * * * \n",
    "\n"
   ]
  },
  {
   "cell_type": "code",
   "execution_count": 22,
   "id": "36ccd052",
   "metadata": {},
   "outputs": [
    {
     "name": "stdout",
     "output_type": "stream",
     "text": [
      " * * * * * \n",
      "\n",
      "  * * * * \n",
      "\n",
      "   * * * \n",
      "\n",
      "    * * \n",
      "\n",
      "     * \n",
      "\n",
      "     * \n",
      "\n",
      "    * * \n",
      "\n",
      "   * * * \n",
      "\n",
      "  * * * * \n",
      "\n",
      " * * * * * \n",
      "\n"
     ]
    }
   ],
   "source": [
    "x=5\n",
    "while x>=1:\n",
    "    c=5-x\n",
    "    print(' '*c,end=' ')\n",
    "    y=1\n",
    "    while y<=x:\n",
    "        print('*',end=' ')\n",
    "        y=y+1\n",
    "    print('\\n')\n",
    "    x=x-1\n",
    "x=1\n",
    "while x<=5:\n",
    "    c=5-x\n",
    "    print(' '*c,end=' ')\n",
    "    y=1\n",
    "    while y<=x:\n",
    "        print('*',end=' ')\n",
    "        y=y+1\n",
    "    print('\\n')\n",
    "    x=x+1"
   ]
  },
  {
   "cell_type": "code",
   "execution_count": null,
   "id": "cfc0390b",
   "metadata": {},
   "outputs": [],
   "source": [
    "#u\n",
    "        * \n",
    "       * * \n",
    "      * * * \n",
    "     * * * * \n",
    "    * * * * * \n",
    "   * * * * * * \n",
    "    * * * * * \n",
    "     * * * * \n",
    "      * * * \n",
    "       * * \n",
    "        * \n"
   ]
  },
  {
   "cell_type": "code",
   "execution_count": 29,
   "id": "6cc8b6ab",
   "metadata": {},
   "outputs": [
    {
     "name": "stdout",
     "output_type": "stream",
     "text": [
      "    * \n",
      "\n",
      "   * * \n",
      "\n",
      "  * * * \n",
      "\n",
      " * * * * \n",
      "\n",
      "* * * * * \n",
      "\n",
      "* * * * * \n",
      "\n",
      " * * * * \n",
      "\n",
      "  * * * \n",
      "\n",
      "   * * \n",
      "\n",
      "    * \n",
      "\n"
     ]
    }
   ],
   "source": [
    "x=1\n",
    "while x<=5:\n",
    "    c=5-x\n",
    "    print(' '*c,end='')\n",
    "    y=1\n",
    "    while y<=x:\n",
    "        print('*',end=' ')\n",
    "        y=y+1\n",
    "    print('\\n')\n",
    "    x=x+1\n",
    "x=5\n",
    "while x>=1:\n",
    "    c=5-x\n",
    "    print(' '*c,end='')\n",
    "    y=1\n",
    "    while y<=x:\n",
    "        print('*',end=' ')\n",
    "        y=y+1\n",
    "    print('\\n')\n",
    "    x=x-1\n"
   ]
  },
  {
   "cell_type": "code",
   "execution_count": null,
   "id": "2f0047d2",
   "metadata": {},
   "outputs": [],
   "source": [
    "#v\n",
    "\n",
    "    *\n",
    "   * *\n",
    "  *   *\n",
    " *     *\n",
    "*       *\n",
    " *     *\n",
    "  *   *\n",
    "   * *\n",
    "    *\n",
    "\n"
   ]
  },
  {
   "cell_type": "code",
   "execution_count": 47,
   "id": "75d69305",
   "metadata": {},
   "outputs": [
    {
     "name": "stdout",
     "output_type": "stream",
     "text": [
      "    * \n",
      "\n",
      "   * * \n",
      "\n",
      "  *   * \n",
      "\n",
      " *     * \n",
      "\n",
      "*       * \n",
      "\n",
      "*       * \n",
      "\n",
      " *     * \n",
      "\n",
      "  *   * \n",
      "\n",
      "   * * \n",
      "\n",
      "    * \n",
      "\n"
     ]
    }
   ],
   "source": [
    "x=1\n",
    "while x<=5:\n",
    "    c=5-x\n",
    "    print(' '*c,end='')\n",
    "    y=1\n",
    "    while y<=x:\n",
    "        if y==1 or y==x:\n",
    "            print(\"*\",end=\" \")\n",
    "        else:\n",
    "            print(\" \",end=\" \")\n",
    "        y=y+1\n",
    "    print('\\n')\n",
    "    x=x+1\n",
    "x=5\n",
    "while x>=1:\n",
    "    c=5-x\n",
    "    print(' '*c,end='')\n",
    "    y=1\n",
    "    while y<=x:\n",
    "        if y==1 or y==x:\n",
    "            print('*',end=' ')\n",
    "        else:\n",
    "            print(' ',end=' ')\n",
    "        y=y+1\n",
    "    print('\\n')\n",
    "    x=x-1\n"
   ]
  },
  {
   "cell_type": "code",
   "execution_count": null,
   "id": "52192d49",
   "metadata": {},
   "outputs": [],
   "source": []
  }
 ],
 "metadata": {
  "kernelspec": {
   "display_name": "Python 3 (ipykernel)",
   "language": "python",
   "name": "python3"
  },
  "language_info": {
   "codemirror_mode": {
    "name": "ipython",
    "version": 3
   },
   "file_extension": ".py",
   "mimetype": "text/x-python",
   "name": "python",
   "nbconvert_exporter": "python",
   "pygments_lexer": "ipython3",
   "version": "3.9.7"
  }
 },
 "nbformat": 4,
 "nbformat_minor": 5
}
